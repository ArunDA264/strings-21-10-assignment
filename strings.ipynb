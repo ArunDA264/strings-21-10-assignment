{
 "cells": [
  {
   "cell_type": "markdown",
   "id": "85e00412",
   "metadata": {},
   "source": [
    "Strings."
   ]
  },
  {
   "cell_type": "markdown",
   "id": "9be3700e",
   "metadata": {},
   "source": [
    "strings are group of characters or sequential charcters that are assigned to a variable.\n",
    "strings are immutable i,e., their memory location cannot be chanaged until they are assigned to another variable. \n",
    "strings are enclosed in single quotes, double quotes, triple quotes. Triple quotes are used for strings over multiple lines, these triple quotes are denoted with three times of both single and double quotes.\n"
   ]
  },
  {
   "cell_type": "markdown",
   "id": "b52aac97",
   "metadata": {},
   "source": [
    "let us consider some examples"
   ]
  },
  {
   "cell_type": "markdown",
   "id": "b6640532",
   "metadata": {},
   "source": [
    "here i am considering X as varaible "
   ]
  },
  {
   "cell_type": "markdown",
   "id": "efb38ebe",
   "metadata": {},
   "source": [
    "X = 'INNOMATICS RESERCH LAB'"
   ]
  },
  {
   "cell_type": "markdown",
   "id": "9eb8e947",
   "metadata": {},
   "source": [
    "here is an example of a string encolsed in single quotes assigned to a variable X   "
   ]
  },
  {
   "cell_type": "markdown",
   "id": "a97da64d",
   "metadata": {},
   "source": [
    "like wise we can have"
   ]
  },
  {
   "cell_type": "markdown",
   "id": "d32898f3",
   "metadata": {},
   "source": [
    "X = \"INNOMATICS RESERCH LAB\"\\\n",
    "X = '''INNOMATICS RESERCH LAB'''\\\n",
    "X = \"\"\"INNOMATICS RESERCH LAB\"\"\""
   ]
  },
  {
   "cell_type": "markdown",
   "id": "00a741dc",
   "metadata": {},
   "source": [
    "The above are the strings enclosed in double, triple singles and triple doubles quotes"
   ]
  },
  {
   "cell_type": "code",
   "execution_count": 5,
   "id": "4a77e0d3",
   "metadata": {},
   "outputs": [
    {
     "name": "stdout",
     "output_type": "stream",
     "text": [
      "INNOMATICS RESERCH LAB\n"
     ]
    }
   ],
   "source": [
    "X = \"INNOMATICS RESERCH LAB\",print (X)"
   ]
  },
  {
   "cell_type": "code",
   "execution_count": 7,
   "id": "f29dd45a",
   "metadata": {},
   "outputs": [
    {
     "data": {
      "text/plain": [
       "2560517905664"
      ]
     },
     "execution_count": 7,
     "metadata": {},
     "output_type": "execute_result"
    }
   ],
   "source": [
    "id(X)"
   ]
  },
  {
   "cell_type": "code",
   "execution_count": 17,
   "id": "ea2b8f70",
   "metadata": {},
   "outputs": [],
   "source": [
    "X = \"INNOMATICS RESERCH LAB\"\n",
    "Y = X\n"
   ]
  },
  {
   "cell_type": "code",
   "execution_count": 18,
   "id": "420bac2b",
   "metadata": {},
   "outputs": [
    {
     "data": {
      "text/plain": [
       "'INNOMATICS RESERCH LAB'"
      ]
     },
     "execution_count": 18,
     "metadata": {},
     "output_type": "execute_result"
    }
   ],
   "source": [
    "Y"
   ]
  },
  {
   "cell_type": "code",
   "execution_count": 19,
   "id": "bd821693",
   "metadata": {},
   "outputs": [
    {
     "data": {
      "text/plain": [
       "2560518230448"
      ]
     },
     "execution_count": 19,
     "metadata": {},
     "output_type": "execute_result"
    }
   ],
   "source": [
    "id(Y)"
   ]
  },
  {
   "cell_type": "markdown",
   "id": "90535cee",
   "metadata": {},
   "source": [
    "Here firstly i have assigned a string to variable X and reassigned same string to Y and their memory loations have changed "
   ]
  },
  {
   "cell_type": "markdown",
   "id": "ecd9ee03",
   "metadata": {},
   "source": [
    "Mainly strings can be accessed by two methods\n",
    "1. indexing\n",
    "2. slicing"
   ]
  },
  {
   "cell_type": "markdown",
   "id": "028efa44",
   "metadata": {},
   "source": [
    "Indexing is a process of accessing a character in a string using its position.\n",
    "\n",
    "In indexing we have two types\n",
    "\n",
    "1. positive indexing refers to accessing an element or a character in a string from left to right direction in sequential flow giving index numbers from 0 to N-1.\n",
    "\n",
    "let us a consider a string 'Arunkumar' \n",
    "\n",
    "here the index of A is 0, r is 1, u is 2 goes on till the last character by assingning the sequential values\n",
    "\n",
    "2. Negative indexing refers to accessing an element or a character in a string from right to left direction in sequential flow giving index numbers from -1 to -N.\n",
    "\n",
    "let us consider a string 'Arunkumar'\n",
    "\n",
    "here the index values of r is -1, a is -2, m is -3 and finally A -9.\n"
   ]
  },
  {
   "cell_type": "code",
   "execution_count": 20,
   "id": "f612927f",
   "metadata": {},
   "outputs": [
    {
     "data": {
      "text/plain": [
       "'INNOMATICS RESERCH LAB'"
      ]
     },
     "execution_count": 20,
     "metadata": {},
     "output_type": "execute_result"
    }
   ],
   "source": [
    "X\n"
   ]
  },
  {
   "cell_type": "code",
   "execution_count": 28,
   "id": "ce2771ae",
   "metadata": {},
   "outputs": [
    {
     "name": "stdout",
     "output_type": "stream",
     "text": [
      "A\n",
      "N\n",
      "N\n",
      "O\n",
      "M\n",
      "A\n",
      "I\n"
     ]
    }
   ],
   "source": [
    "print(X[5])\n",
    "print(X[1])\n",
    "print(X[2])\n",
    "print(X[3])\n",
    "print(X[4])\n",
    "print(X[5])\n",
    "print(X[0])"
   ]
  },
  {
   "cell_type": "markdown",
   "id": "d01a608b",
   "metadata": {},
   "source": [
    "The above is the example of positive indexing"
   ]
  },
  {
   "cell_type": "markdown",
   "id": "8d234a50",
   "metadata": {},
   "source": [
    "similarly we can find the indexes of an element or character with negative indexing as below"
   ]
  },
  {
   "cell_type": "code",
   "execution_count": 29,
   "id": "41b567b4",
   "metadata": {},
   "outputs": [
    {
     "data": {
      "text/plain": [
       "'INNOMATICS RESERCH LAB'"
      ]
     },
     "execution_count": 29,
     "metadata": {},
     "output_type": "execute_result"
    }
   ],
   "source": [
    "X\n"
   ]
  },
  {
   "cell_type": "code",
   "execution_count": 32,
   "id": "42ac4b68",
   "metadata": {},
   "outputs": [
    {
     "name": "stdout",
     "output_type": "stream",
     "text": [
      "B\n",
      "A\n",
      "L\n",
      " \n",
      "H\n",
      "C\n",
      "R\n"
     ]
    }
   ],
   "source": [
    "print(X[-1])\n",
    "print(X[-2])\n",
    "print(X[-3])\n",
    "print(X[-4])\n",
    "print(X[-5])\n",
    "print(X[-6])\n",
    "print(X[-7])"
   ]
  },
  {
   "cell_type": "markdown",
   "id": "1e14d6d1",
   "metadata": {},
   "source": [
    "here we got values of particular character in a string by using negative indexing"
   ]
  },
  {
   "cell_type": "markdown",
   "id": "87ce6b4c",
   "metadata": {},
   "source": [
    "Slicing\n"
   ]
  },
  {
   "cell_type": "markdown",
   "id": "bbae8aa4",
   "metadata": {},
   "source": [
    "We use slice when we require a part of string but not the entire string\n",
    "\n",
    "slicing can be done with both positive and negative indexing"
   ]
  },
  {
   "cell_type": "markdown",
   "id": "6fd656c5",
   "metadata": {},
   "source": [
    "let us know how slicing happens on a string"
   ]
  },
  {
   "cell_type": "code",
   "execution_count": 33,
   "id": "76371f6b",
   "metadata": {},
   "outputs": [
    {
     "data": {
      "text/plain": [
       "'INNOMATICS RESERCH LAB'"
      ]
     },
     "execution_count": 33,
     "metadata": {},
     "output_type": "execute_result"
    }
   ],
   "source": [
    "X"
   ]
  },
  {
   "cell_type": "code",
   "execution_count": 47,
   "id": "9636755b",
   "metadata": {},
   "outputs": [
    {
     "name": "stdout",
     "output_type": "stream",
     "text": [
      "INNOMATIC\n",
      "NNOMATI\n",
      "INNOMATICS RESERCH LAB\n",
      "RCH LA\n",
      "ICS RESERCH LA\n"
     ]
    }
   ],
   "source": [
    "print(X[0:9])\n",
    "print(X[1:8])\n",
    "print(X[::])\n",
    "print(X[-7:-1])\n",
    "print(X[-15:-1])"
   ]
  },
  {
   "cell_type": "markdown",
   "id": "ca20c34b",
   "metadata": {},
   "source": [
    "String methods"
   ]
  },
  {
   "cell_type": "markdown",
   "id": "a8c32795",
   "metadata": {},
   "source": [
    "these are methods which are used on strings to get the desired outputs in python"
   ]
  },
  {
   "cell_type": "markdown",
   "id": "66dffd20",
   "metadata": {},
   "source": [
    "1.capitalize\n",
    "  \n",
    "    this capitalise method is used to covert the first character from lower case character to upper case "
   ]
  },
  {
   "cell_type": "code",
   "execution_count": 50,
   "id": "413051d2",
   "metadata": {},
   "outputs": [
    {
     "data": {
      "text/plain": [
       "'innomatics reserch lab'"
      ]
     },
     "execution_count": 50,
     "metadata": {},
     "output_type": "execute_result"
    }
   ],
   "source": [
    "x = 'innomatics reserch lab'\n",
    "x\n"
   ]
  },
  {
   "cell_type": "code",
   "execution_count": 54,
   "id": "0e44a24d",
   "metadata": {},
   "outputs": [
    {
     "data": {
      "text/plain": [
       "'Innomatics reserch lab'"
      ]
     },
     "execution_count": 54,
     "metadata": {},
     "output_type": "execute_result"
    }
   ],
   "source": [
    "x.capitalize()"
   ]
  },
  {
   "cell_type": "code",
   "execution_count": 55,
   "id": "4655b8e9",
   "metadata": {},
   "outputs": [
    {
     "data": {
      "text/plain": [
       "'have a good day'"
      ]
     },
     "execution_count": 55,
     "metadata": {},
     "output_type": "execute_result"
    }
   ],
   "source": [
    "r = 'have a good day'\n",
    "r"
   ]
  },
  {
   "cell_type": "code",
   "execution_count": 64,
   "id": "820165cd",
   "metadata": {},
   "outputs": [
    {
     "data": {
      "text/plain": [
       "'Have a good day'"
      ]
     },
     "execution_count": 64,
     "metadata": {},
     "output_type": "execute_result"
    }
   ],
   "source": [
    "r.capitalize()"
   ]
  },
  {
   "cell_type": "markdown",
   "id": "8e92ad8e",
   "metadata": {},
   "source": [
    "the above outputs clearly shows the change from lower to upper in first word of a string"
   ]
  },
  {
   "cell_type": "markdown",
   "id": "641f3e7c",
   "metadata": {},
   "source": [
    "2. casefold"
   ]
  },
  {
   "cell_type": "markdown",
   "id": "66d1b94d",
   "metadata": {},
   "source": [
    "casefold is used to convert the string characters from upper to lower and also some special characters into lower"
   ]
  },
  {
   "cell_type": "markdown",
   "id": "2c4bf9a2",
   "metadata": {},
   "source": [
    "let us consider an example"
   ]
  },
  {
   "cell_type": "code",
   "execution_count": 65,
   "id": "4927c49c",
   "metadata": {},
   "outputs": [
    {
     "data": {
      "text/plain": [
       "'EdWarD MaYA'"
      ]
     },
     "execution_count": 65,
     "metadata": {},
     "output_type": "execute_result"
    }
   ],
   "source": [
    "b = 'EdWarD MaYA'\n",
    "b"
   ]
  },
  {
   "cell_type": "code",
   "execution_count": 66,
   "id": "81604121",
   "metadata": {},
   "outputs": [
    {
     "data": {
      "text/plain": [
       "'edward maya'"
      ]
     },
     "execution_count": 66,
     "metadata": {},
     "output_type": "execute_result"
    }
   ],
   "source": [
    "b.casefold()"
   ]
  },
  {
   "cell_type": "code",
   "execution_count": 69,
   "id": "58921371",
   "metadata": {},
   "outputs": [
    {
     "data": {
      "text/plain": [
       "'TWILIGHT SAGA'"
      ]
     },
     "execution_count": 69,
     "metadata": {},
     "output_type": "execute_result"
    }
   ],
   "source": [
    "h = 'TWILIGHT SAGA'\n",
    "h\n"
   ]
  },
  {
   "cell_type": "code",
   "execution_count": 70,
   "id": "82019357",
   "metadata": {},
   "outputs": [
    {
     "data": {
      "text/plain": [
       "'twilight saga'"
      ]
     },
     "execution_count": 70,
     "metadata": {},
     "output_type": "execute_result"
    }
   ],
   "source": [
    "h.casefold()"
   ]
  },
  {
   "cell_type": "markdown",
   "id": "cf2b350d",
   "metadata": {},
   "source": [
    "here we can clarly see the transformation of characters into lower case"
   ]
  },
  {
   "cell_type": "markdown",
   "id": "1b046177",
   "metadata": {},
   "source": [
    "case fold is also used used for some special characters \n",
    "\n",
    "eg ß which will be converted into ss"
   ]
  },
  {
   "cell_type": "markdown",
   "id": "7d3191cb",
   "metadata": {},
   "source": [
    "3.Center\n",
    "\n",
    "center is used to make the string at the center with in the given lengh\n",
    "\n",
    "let us go with an example"
   ]
  },
  {
   "cell_type": "code",
   "execution_count": 76,
   "id": "035a6eeb",
   "metadata": {},
   "outputs": [
    {
     "data": {
      "text/plain": [
       "'captain america'"
      ]
     },
     "execution_count": 76,
     "metadata": {},
     "output_type": "execute_result"
    }
   ],
   "source": [
    "a = \"captain america\"\n",
    "a\n"
   ]
  },
  {
   "cell_type": "code",
   "execution_count": 77,
   "id": "96204a40",
   "metadata": {},
   "outputs": [
    {
     "data": {
      "text/plain": [
       "'  captain america   '"
      ]
     },
     "execution_count": 77,
     "metadata": {},
     "output_type": "execute_result"
    }
   ],
   "source": [
    "a.center(20)"
   ]
  },
  {
   "cell_type": "markdown",
   "id": "c262b8a6",
   "metadata": {},
   "source": [
    "here the entire old string is fitted with 20 characters and the string captain america is at the center of it"
   ]
  },
  {
   "cell_type": "code",
   "execution_count": 78,
   "id": "268946ec",
   "metadata": {},
   "outputs": [
    {
     "data": {
      "text/plain": [
       "'$$captain america$$$'"
      ]
     },
     "execution_count": 78,
     "metadata": {},
     "output_type": "execute_result"
    }
   ],
   "source": [
    "a.center(20,'$')"
   ]
  },
  {
   "cell_type": "markdown",
   "id": "7550d092",
   "metadata": {},
   "source": [
    "here $ is a fill character filled at empty spaces by keeping old string at the center"
   ]
  },
  {
   "cell_type": "code",
   "execution_count": 75,
   "id": "aa7a5ef6",
   "metadata": {},
   "outputs": [
    {
     "data": {
      "text/plain": [
       "'captain america'"
      ]
     },
     "execution_count": 75,
     "metadata": {},
     "output_type": "execute_result"
    }
   ],
   "source": [
    "a.center(5)"
   ]
  },
  {
   "cell_type": "markdown",
   "id": "37c647de",
   "metadata": {},
   "source": [
    "if we give the lenght lower than the actual string length it doesnt changes and the out put will be same"
   ]
  },
  {
   "cell_type": "markdown",
   "id": "fb8ea93c",
   "metadata": {},
   "source": [
    "4. count\n",
    "   \n",
    "    count is used to count the number of characters that are repeating in a string\n",
    "    "
   ]
  },
  {
   "cell_type": "code",
   "execution_count": 79,
   "id": "0110be91",
   "metadata": {},
   "outputs": [
    {
     "data": {
      "text/plain": [
       "'INNOMATICS RESERCH LAB'"
      ]
     },
     "execution_count": 79,
     "metadata": {},
     "output_type": "execute_result"
    }
   ],
   "source": [
    "X"
   ]
  },
  {
   "cell_type": "code",
   "execution_count": 85,
   "id": "d4cebfff",
   "metadata": {},
   "outputs": [
    {
     "data": {
      "text/plain": [
       "2"
      ]
     },
     "execution_count": 85,
     "metadata": {},
     "output_type": "execute_result"
    }
   ],
   "source": [
    "X.count('N')\n"
   ]
  },
  {
   "cell_type": "code",
   "execution_count": 86,
   "id": "50449626",
   "metadata": {},
   "outputs": [
    {
     "data": {
      "text/plain": [
       "2"
      ]
     },
     "execution_count": 86,
     "metadata": {},
     "output_type": "execute_result"
    }
   ],
   "source": [
    "X.count ('R')"
   ]
  },
  {
   "cell_type": "code",
   "execution_count": 87,
   "id": "713923a5",
   "metadata": {},
   "outputs": [
    {
     "data": {
      "text/plain": [
       "1"
      ]
     },
     "execution_count": 87,
     "metadata": {},
     "output_type": "execute_result"
    }
   ],
   "source": [
    "X.count('O')"
   ]
  },
  {
   "cell_type": "markdown",
   "id": "663fb353",
   "metadata": {},
   "source": [
    "here in the outputs the letter N,R,O are repeated 2,2,1 times in the string"
   ]
  },
  {
   "cell_type": "markdown",
   "id": "ac219def",
   "metadata": {},
   "source": [
    "5.Endswith\n",
    "  \n",
    "  endswith is used to know weather the string ends with the desired suffix and in return shows true if ends with suffix else shows false"
   ]
  },
  {
   "cell_type": "code",
   "execution_count": 88,
   "id": "a2fd0a4d",
   "metadata": {},
   "outputs": [
    {
     "data": {
      "text/plain": [
       "'INNOMATICS RESERCH LAB'"
      ]
     },
     "execution_count": 88,
     "metadata": {},
     "output_type": "execute_result"
    }
   ],
   "source": [
    "X"
   ]
  },
  {
   "cell_type": "code",
   "execution_count": 90,
   "id": "bf8bd128",
   "metadata": {},
   "outputs": [
    {
     "name": "stdout",
     "output_type": "stream",
     "text": [
      "False\n"
     ]
    }
   ],
   "source": [
    "print(X.endswith(\"lab\"))"
   ]
  },
  {
   "cell_type": "code",
   "execution_count": 91,
   "id": "bf4ed223",
   "metadata": {},
   "outputs": [
    {
     "name": "stdout",
     "output_type": "stream",
     "text": [
      "True\n"
     ]
    }
   ],
   "source": [
    "print(X.endswith(\"LAB\"))"
   ]
  },
  {
   "cell_type": "markdown",
   "id": "ebaec838",
   "metadata": {},
   "source": [
    "here we can clearly see  the suffix in the string is in upper case and i searched with the lower case and in reture i got false\n",
    "when i gone with the upper case for search the actual stri ng is in upper and in return i got true"
   ]
  },
  {
   "cell_type": "code",
   "execution_count": 92,
   "id": "7124261a",
   "metadata": {},
   "outputs": [
    {
     "data": {
      "text/plain": [
       "'INNOMATICS RESERCH LAB'"
      ]
     },
     "execution_count": 92,
     "metadata": {},
     "output_type": "execute_result"
    }
   ],
   "source": [
    "X"
   ]
  },
  {
   "cell_type": "code",
   "execution_count": 93,
   "id": "e5f115b9",
   "metadata": {},
   "outputs": [
    {
     "name": "stdout",
     "output_type": "stream",
     "text": [
      "False\n"
     ]
    }
   ],
   "source": [
    "print(x.endswith('love'))"
   ]
  },
  {
   "cell_type": "markdown",
   "id": "5488c86e",
   "metadata": {},
   "source": [
    "here i searched with the suffix which is not at all related to the actual string and in reture in got false"
   ]
  },
  {
   "cell_type": "markdown",
   "id": "fc2546d8",
   "metadata": {},
   "source": [
    "6. Find\n",
    "   Find is used to find the required element by giving the lowest index of that element or first occurence of that element"
   ]
  },
  {
   "cell_type": "code",
   "execution_count": 102,
   "id": "14c3be29",
   "metadata": {},
   "outputs": [
    {
     "data": {
      "text/plain": [
       "'INNOMATICS RESERCH LAB'"
      ]
     },
     "execution_count": 102,
     "metadata": {},
     "output_type": "execute_result"
    }
   ],
   "source": [
    "X"
   ]
  },
  {
   "cell_type": "code",
   "execution_count": 103,
   "id": "1842c160",
   "metadata": {},
   "outputs": [
    {
     "data": {
      "text/plain": [
       "11"
      ]
     },
     "execution_count": 103,
     "metadata": {},
     "output_type": "execute_result"
    }
   ],
   "source": [
    "X.find('RESERCH')"
   ]
  },
  {
   "cell_type": "markdown",
   "id": "51103d31",
   "metadata": {},
   "source": [
    "here the rweserch is present in the string with index 11 and the outgt put has executed"
   ]
  },
  {
   "cell_type": "code",
   "execution_count": 105,
   "id": "03ed3b9a",
   "metadata": {},
   "outputs": [
    {
     "data": {
      "text/plain": [
       "-1"
      ]
     },
     "execution_count": 105,
     "metadata": {},
     "output_type": "execute_result"
    }
   ],
   "source": [
    "X.find('reserch')"
   ]
  },
  {
   "cell_type": "markdown",
   "id": "027ec414",
   "metadata": {},
   "source": [
    "here the word i asked is in lower case and the executed output is -1 which means no value"
   ]
  },
  {
   "cell_type": "code",
   "execution_count": 107,
   "id": "e942beab",
   "metadata": {},
   "outputs": [
    {
     "data": {
      "text/plain": [
       "13"
      ]
     },
     "execution_count": 107,
     "metadata": {},
     "output_type": "execute_result"
    }
   ],
   "source": [
    "X.find('SER',10,20)"
   ]
  },
  {
   "cell_type": "markdown",
   "id": "1b5178c6",
   "metadata": {},
   "source": [
    "here i asked for a lenght from 10 to 20 index and hence it is in it and in return  executed the lowest index number of what i asked"
   ]
  },
  {
   "cell_type": "markdown",
   "id": "c02c80ba",
   "metadata": {},
   "source": [
    "Format is an important method that we are using in day to day life. It is used to change the characters that we would like to do"
   ]
  },
  {
   "cell_type": "code",
   "execution_count": 111,
   "id": "1710788f",
   "metadata": {},
   "outputs": [
    {
     "name": "stdout",
     "output_type": "stream",
     "text": [
      "my name is Arunkumar, my age is 26\n"
     ]
    }
   ],
   "source": [
    "name = 'Arunkumar'\n",
    "age = 26\n",
    "message = 'my name is {0}, my age is {1}'.format(name,age)\n",
    "print(message)\n"
   ]
  },
  {
   "cell_type": "code",
   "execution_count": 112,
   "id": "e8f5767f",
   "metadata": {},
   "outputs": [
    {
     "name": "stdout",
     "output_type": "stream",
     "text": [
      "person id is 99899, person cvv is 987\n"
     ]
    }
   ],
   "source": [
    "id = 99899\n",
    "cvv = 987\n",
    "message='person id is {0}, person cvv is {1}'.format(id,cvv)\n",
    "print(message)"
   ]
  },
  {
   "cell_type": "markdown",
   "id": "4e66b806",
   "metadata": {},
   "source": [
    "we can clearly see how the credentials are getting replaced in the out put"
   ]
  },
  {
   "cell_type": "markdown",
   "id": "5377f33e",
   "metadata": {},
   "source": [
    "7.Index\n",
    "\n",
    "  index is used to find out the index value of first occuring in a given length\n",
    "  "
   ]
  },
  {
   "cell_type": "code",
   "execution_count": 113,
   "id": "2deeb0b5",
   "metadata": {},
   "outputs": [
    {
     "data": {
      "text/plain": [
       "'INNOMATICS RESERCH LAB'"
      ]
     },
     "execution_count": 113,
     "metadata": {},
     "output_type": "execute_result"
    }
   ],
   "source": [
    "X"
   ]
  },
  {
   "cell_type": "code",
   "execution_count": 115,
   "id": "dac5b8df",
   "metadata": {},
   "outputs": [
    {
     "data": {
      "text/plain": [
       "11"
      ]
     },
     "execution_count": 115,
     "metadata": {},
     "output_type": "execute_result"
    }
   ],
   "source": [
    "X.index('R')"
   ]
  },
  {
   "cell_type": "code",
   "execution_count": 116,
   "id": "8e000aaa",
   "metadata": {},
   "outputs": [
    {
     "data": {
      "text/plain": [
       "1"
      ]
     },
     "execution_count": 116,
     "metadata": {},
     "output_type": "execute_result"
    }
   ],
   "source": [
    "X.index('N')"
   ]
  },
  {
   "cell_type": "code",
   "execution_count": 119,
   "id": "2f62cdac",
   "metadata": {},
   "outputs": [
    {
     "data": {
      "text/plain": [
       "2"
      ]
     },
     "execution_count": 119,
     "metadata": {},
     "output_type": "execute_result"
    }
   ],
   "source": [
    "X.index('N',2,10)"
   ]
  },
  {
   "cell_type": "markdown",
   "id": "90b9ac6d",
   "metadata": {},
   "source": [
    "here the index values of an elemets are executed in a string"
   ]
  },
  {
   "cell_type": "markdown",
   "id": "16d1f4c1",
   "metadata": {},
   "source": [
    "8.Isalnum\n",
    "\n",
    "  isalnum is used to check weather the characters in a string are either alphabates or numericals\n",
    "    "
   ]
  },
  {
   "cell_type": "code",
   "execution_count": 120,
   "id": "ebc9ee9c",
   "metadata": {},
   "outputs": [
    {
     "data": {
      "text/plain": [
       "'abc133'"
      ]
     },
     "execution_count": 120,
     "metadata": {},
     "output_type": "execute_result"
    }
   ],
   "source": [
    "s = 'abc133'\n",
    "s"
   ]
  },
  {
   "cell_type": "code",
   "execution_count": 121,
   "id": "7d39cef2",
   "metadata": {},
   "outputs": [
    {
     "data": {
      "text/plain": [
       "True"
      ]
     },
     "execution_count": 121,
     "metadata": {},
     "output_type": "execute_result"
    }
   ],
   "source": [
    "s.isalnum()"
   ]
  },
  {
   "cell_type": "code",
   "execution_count": 122,
   "id": "2ab3e1fd",
   "metadata": {},
   "outputs": [
    {
     "data": {
      "text/plain": [
       "'&*(^%)'"
      ]
     },
     "execution_count": 122,
     "metadata": {},
     "output_type": "execute_result"
    }
   ],
   "source": [
    "n = '&*(^%)'\n",
    "n"
   ]
  },
  {
   "cell_type": "code",
   "execution_count": 123,
   "id": "038852b9",
   "metadata": {},
   "outputs": [
    {
     "data": {
      "text/plain": [
       "False"
      ]
     },
     "execution_count": 123,
     "metadata": {},
     "output_type": "execute_result"
    }
   ],
   "source": [
    "n.isalnum()"
   ]
  },
  {
   "cell_type": "markdown",
   "id": "5df334d4",
   "metadata": {},
   "source": [
    "in both cases one string has both alph and numeric values and executed true\n",
    "where aas in the other string contains only special characters and executed false"
   ]
  },
  {
   "cell_type": "markdown",
   "id": "a7e6858a",
   "metadata": {},
   "source": [
    "9. Isalpha\n",
    "   isalpha is used to find wheather the characters in a string are only alphabetes or not"
   ]
  },
  {
   "cell_type": "code",
   "execution_count": 124,
   "id": "cbc2bfd7",
   "metadata": {},
   "outputs": [
    {
     "data": {
      "text/plain": [
       "'abc133'"
      ]
     },
     "execution_count": 124,
     "metadata": {},
     "output_type": "execute_result"
    }
   ],
   "source": [
    "s"
   ]
  },
  {
   "cell_type": "code",
   "execution_count": 125,
   "id": "d204421e",
   "metadata": {},
   "outputs": [
    {
     "data": {
      "text/plain": [
       "False"
      ]
     },
     "execution_count": 125,
     "metadata": {},
     "output_type": "execute_result"
    }
   ],
   "source": [
    "s.isalpha()"
   ]
  },
  {
   "cell_type": "code",
   "execution_count": 126,
   "id": "ae92a6cf",
   "metadata": {},
   "outputs": [],
   "source": [
    "m = ('abcjhdj')"
   ]
  },
  {
   "cell_type": "code",
   "execution_count": 127,
   "id": "01fc829e",
   "metadata": {},
   "outputs": [
    {
     "data": {
      "text/plain": [
       "True"
      ]
     },
     "execution_count": 127,
     "metadata": {},
     "output_type": "execute_result"
    }
   ],
   "source": [
    "m.isalpha()"
   ]
  },
  {
   "cell_type": "markdown",
   "id": "a014c2f6",
   "metadata": {},
   "source": [
    "in first case s contains both alph and numerics and executed false\n",
    "in second case m contains all characters and executed true"
   ]
  },
  {
   "cell_type": "markdown",
   "id": "0048bdcd",
   "metadata": {},
   "source": [
    "10. Isnumeric\n",
    "    isnumeric checks for only numeric characters in a string "
   ]
  },
  {
   "cell_type": "code",
   "execution_count": 134,
   "id": "8246f13b",
   "metadata": {},
   "outputs": [
    {
     "data": {
      "text/plain": [
       "'abc133'"
      ]
     },
     "execution_count": 134,
     "metadata": {},
     "output_type": "execute_result"
    }
   ],
   "source": [
    "s\n"
   ]
  },
  {
   "cell_type": "code",
   "execution_count": 135,
   "id": "28f8afd8",
   "metadata": {},
   "outputs": [
    {
     "data": {
      "text/plain": [
       "False"
      ]
     },
     "execution_count": 135,
     "metadata": {},
     "output_type": "execute_result"
    }
   ],
   "source": [
    "s.isnumeric()"
   ]
  },
  {
   "cell_type": "markdown",
   "id": "678a713e",
   "metadata": {},
   "source": [
    "Z = ('12345')\n",
    "Z\n",
    "\n"
   ]
  },
  {
   "cell_type": "code",
   "execution_count": 136,
   "id": "c0151487",
   "metadata": {},
   "outputs": [
    {
     "data": {
      "text/plain": [
       "True"
      ]
     },
     "execution_count": 136,
     "metadata": {},
     "output_type": "execute_result"
    }
   ],
   "source": [
    "Z.isnumeric()"
   ]
  },
  {
   "cell_type": "markdown",
   "id": "d78d9535",
   "metadata": {},
   "source": [
    " in first case s contains both alph and executed false in second case Z contains all numerics and executed true"
   ]
  },
  {
   "cell_type": "markdown",
   "id": "eba1f8e3",
   "metadata": {},
   "source": [
    "11.Isascii\n",
    "    isascii method checks if all characters in a given Python string are ASCII characters. If they are, it returns True; otherwise, it returns False."
   ]
  },
  {
   "cell_type": "code",
   "execution_count": 138,
   "id": "20664937",
   "metadata": {},
   "outputs": [
    {
     "data": {
      "text/plain": [
       "'INNOMATICS RESERCH LAB'"
      ]
     },
     "execution_count": 138,
     "metadata": {},
     "output_type": "execute_result"
    }
   ],
   "source": [
    "X"
   ]
  },
  {
   "cell_type": "code",
   "execution_count": 139,
   "id": "4c095e3a",
   "metadata": {},
   "outputs": [
    {
     "data": {
      "text/plain": [
       "True"
      ]
     },
     "execution_count": 139,
     "metadata": {},
     "output_type": "execute_result"
    }
   ],
   "source": [
    "X.isascii()"
   ]
  },
  {
   "cell_type": "markdown",
   "id": "2e5231b4",
   "metadata": {},
   "source": [
    "here all are ascii characters and result is true"
   ]
  },
  {
   "cell_type": "markdown",
   "id": "96468062",
   "metadata": {},
   "source": [
    "12.Isdecimal\n",
    "\n",
    "   isdecimal function returns true if all characters in a string are decimal, else it returns False."
   ]
  },
  {
   "cell_type": "code",
   "execution_count": 140,
   "id": "c0fb94e4",
   "metadata": {},
   "outputs": [
    {
     "data": {
      "text/plain": [
       "'5.5'"
      ]
     },
     "execution_count": 140,
     "metadata": {},
     "output_type": "execute_result"
    }
   ],
   "source": [
    "v = '5.5'\n",
    "v"
   ]
  },
  {
   "cell_type": "code",
   "execution_count": 141,
   "id": "e8184fd4",
   "metadata": {},
   "outputs": [
    {
     "data": {
      "text/plain": [
       "False"
      ]
     },
     "execution_count": 141,
     "metadata": {},
     "output_type": "execute_result"
    }
   ],
   "source": [
    "v.isdecimal()"
   ]
  },
  {
   "cell_type": "code",
   "execution_count": 142,
   "id": "260f76b1",
   "metadata": {},
   "outputs": [
    {
     "data": {
      "text/plain": [
       "'35'"
      ]
     },
     "execution_count": 142,
     "metadata": {},
     "output_type": "execute_result"
    }
   ],
   "source": [
    "k = '35'\n",
    "k"
   ]
  },
  {
   "cell_type": "code",
   "execution_count": 143,
   "id": "49304623",
   "metadata": {},
   "outputs": [
    {
     "data": {
      "text/plain": [
       "True"
      ]
     },
     "execution_count": 143,
     "metadata": {},
     "output_type": "execute_result"
    }
   ],
   "source": [
    "k.isdecimal()"
   ]
  },
  {
   "cell_type": "markdown",
   "id": "7e289a24",
   "metadata": {},
   "source": [
    "here in V we have 5.5 which is a float number and result is false\n",
    "in k we have 35 which is a decimal and result is true"
   ]
  },
  {
   "cell_type": "markdown",
   "id": "03fdff34",
   "metadata": {},
   "source": [
    "13. Isdigit\n",
    "\n",
    "   isdigit method returns “True” if all characters in the string are digits, Otherwise, It returns “False”."
   ]
  },
  {
   "cell_type": "code",
   "execution_count": 145,
   "id": "5db66f11",
   "metadata": {},
   "outputs": [
    {
     "data": {
      "text/plain": [
       "'5.5'"
      ]
     },
     "execution_count": 145,
     "metadata": {},
     "output_type": "execute_result"
    }
   ],
   "source": [
    "v"
   ]
  },
  {
   "cell_type": "code",
   "execution_count": 146,
   "id": "9b08ec3f",
   "metadata": {},
   "outputs": [
    {
     "data": {
      "text/plain": [
       "False"
      ]
     },
     "execution_count": 146,
     "metadata": {},
     "output_type": "execute_result"
    }
   ],
   "source": [
    "v.isdigit()"
   ]
  },
  {
   "cell_type": "code",
   "execution_count": 149,
   "id": "791d13a7",
   "metadata": {},
   "outputs": [
    {
     "data": {
      "text/plain": [
       "'35'"
      ]
     },
     "execution_count": 149,
     "metadata": {},
     "output_type": "execute_result"
    }
   ],
   "source": [
    "k"
   ]
  },
  {
   "cell_type": "code",
   "execution_count": 150,
   "id": "e9f5e621",
   "metadata": {},
   "outputs": [
    {
     "data": {
      "text/plain": [
       "True"
      ]
     },
     "execution_count": 150,
     "metadata": {},
     "output_type": "execute_result"
    }
   ],
   "source": [
    "k.isdigit()"
   ]
  },
  {
   "cell_type": "markdown",
   "id": "ae4fb58a",
   "metadata": {},
   "source": [
    "here k has value 35 is a digit and result is true"
   ]
  },
  {
   "cell_type": "markdown",
   "id": "29024a96",
   "metadata": {},
   "source": [
    "13. Islower\n",
    "   islower is used to check weather  all the characters are in lower case or not\n",
    "   if all are in lower then true is exeuted else false is executed\n",
    "   it only looks for alphabates but not numericals"
   ]
  },
  {
   "cell_type": "code",
   "execution_count": 157,
   "id": "22a51fbf",
   "metadata": {},
   "outputs": [
    {
     "data": {
      "text/plain": [
       "'INNOMATICS RESERCH LAB'"
      ]
     },
     "execution_count": 157,
     "metadata": {},
     "output_type": "execute_result"
    }
   ],
   "source": [
    "X"
   ]
  },
  {
   "cell_type": "code",
   "execution_count": 158,
   "id": "fd9823e1",
   "metadata": {},
   "outputs": [
    {
     "data": {
      "text/plain": [
       "False"
      ]
     },
     "execution_count": 158,
     "metadata": {},
     "output_type": "execute_result"
    }
   ],
   "source": [
    "X.islower()"
   ]
  },
  {
   "cell_type": "code",
   "execution_count": 159,
   "id": "35e123c7",
   "metadata": {},
   "outputs": [
    {
     "data": {
      "text/plain": [
       "'happy birthday123'"
      ]
     },
     "execution_count": 159,
     "metadata": {},
     "output_type": "execute_result"
    }
   ],
   "source": [
    "d = 'happy birthday123'\n",
    "d"
   ]
  },
  {
   "cell_type": "code",
   "execution_count": 160,
   "id": "ac846203",
   "metadata": {},
   "outputs": [
    {
     "data": {
      "text/plain": [
       "True"
      ]
     },
     "execution_count": 160,
     "metadata": {},
     "output_type": "execute_result"
    }
   ],
   "source": [
    "d.islower()"
   ]
  },
  {
   "cell_type": "markdown",
   "id": "af230892",
   "metadata": {},
   "source": [
    "in d variable all the strings are in lower case hence true is executed \\\n",
    "in X variable all the strings are in upper case hence false is executed"
   ]
  },
  {
   "cell_type": "markdown",
   "id": "6519f254",
   "metadata": {},
   "source": [
    "14.Isupper\\\n",
    "   isupper is used to find out all the characters in string are in upper case or not\n",
    "    and also looks at only alphabates"
   ]
  },
  {
   "cell_type": "code",
   "execution_count": 168,
   "id": "8fd5f623",
   "metadata": {},
   "outputs": [
    {
     "data": {
      "text/plain": [
       "'INNOMATICS RESERCH LAB'"
      ]
     },
     "execution_count": 168,
     "metadata": {},
     "output_type": "execute_result"
    }
   ],
   "source": [
    "X"
   ]
  },
  {
   "cell_type": "code",
   "execution_count": 169,
   "id": "eef83ea9",
   "metadata": {},
   "outputs": [
    {
     "data": {
      "text/plain": [
       "True"
      ]
     },
     "execution_count": 169,
     "metadata": {},
     "output_type": "execute_result"
    }
   ],
   "source": [
    "X.isupper()"
   ]
  },
  {
   "cell_type": "code",
   "execution_count": 170,
   "id": "bd414817",
   "metadata": {},
   "outputs": [
    {
     "data": {
      "text/plain": [
       "'35'"
      ]
     },
     "execution_count": 170,
     "metadata": {},
     "output_type": "execute_result"
    }
   ],
   "source": [
    "k"
   ]
  },
  {
   "cell_type": "code",
   "execution_count": 171,
   "id": "2accc8e1",
   "metadata": {},
   "outputs": [
    {
     "data": {
      "text/plain": [
       "False"
      ]
     },
     "execution_count": 171,
     "metadata": {},
     "output_type": "execute_result"
    }
   ],
   "source": [
    "k.isupper()"
   ]
  },
  {
   "cell_type": "code",
   "execution_count": 172,
   "id": "9a9632ac",
   "metadata": {},
   "outputs": [
    {
     "data": {
      "text/plain": [
       "'abc133'"
      ]
     },
     "execution_count": 172,
     "metadata": {},
     "output_type": "execute_result"
    }
   ],
   "source": [
    "s"
   ]
  },
  {
   "cell_type": "code",
   "execution_count": 173,
   "id": "40f5936a",
   "metadata": {},
   "outputs": [
    {
     "data": {
      "text/plain": [
       "False"
      ]
     },
     "execution_count": 173,
     "metadata": {},
     "output_type": "execute_result"
    }
   ],
   "source": [
    "s.isupper()"
   ]
  },
  {
   "cell_type": "markdown",
   "id": "c4967ce9",
   "metadata": {},
   "source": [
    "in these three cases\\\n",
    "1.X has all uppers hence true\\\n",
    "2.k has only numericals hence false\\\n",
    "3.s has only lower cases hence false"
   ]
  },
  {
   "cell_type": "markdown",
   "id": "c9eeca2c",
   "metadata": {},
   "source": [
    "14.ISprintable\\\n",
    " The isprintable() method returns “True” if all characters in the string are printable or the string is empty,"
   ]
  },
  {
   "cell_type": "code",
   "execution_count": 174,
   "id": "c051ffc7",
   "metadata": {},
   "outputs": [
    {
     "data": {
      "text/plain": [
       "'INNOMATICS RESERCH LAB'"
      ]
     },
     "execution_count": 174,
     "metadata": {},
     "output_type": "execute_result"
    }
   ],
   "source": [
    "X\n"
   ]
  },
  {
   "cell_type": "code",
   "execution_count": 175,
   "id": "a96ea4d3",
   "metadata": {},
   "outputs": [
    {
     "data": {
      "text/plain": [
       "True"
      ]
     },
     "execution_count": 175,
     "metadata": {},
     "output_type": "execute_result"
    }
   ],
   "source": [
    "X.isprintable()"
   ]
  },
  {
   "cell_type": "code",
   "execution_count": 176,
   "id": "ae2612c2",
   "metadata": {},
   "outputs": [
    {
     "data": {
      "text/plain": [
       "'35'"
      ]
     },
     "execution_count": 176,
     "metadata": {},
     "output_type": "execute_result"
    }
   ],
   "source": [
    "k"
   ]
  },
  {
   "cell_type": "code",
   "execution_count": 177,
   "id": "4f173165",
   "metadata": {},
   "outputs": [
    {
     "data": {
      "text/plain": [
       "True"
      ]
     },
     "execution_count": 177,
     "metadata": {},
     "output_type": "execute_result"
    }
   ],
   "source": [
    "k.isprintable()"
   ]
  },
  {
   "cell_type": "code",
   "execution_count": 178,
   "id": "9787418c",
   "metadata": {},
   "outputs": [
    {
     "data": {
      "text/plain": [
       "'  '"
      ]
     },
     "execution_count": 178,
     "metadata": {},
     "output_type": "execute_result"
    }
   ],
   "source": [
    "i = \"  \"\n",
    "i"
   ]
  },
  {
   "cell_type": "code",
   "execution_count": 179,
   "id": "96c7036f",
   "metadata": {},
   "outputs": [
    {
     "data": {
      "text/plain": [
       "True"
      ]
     },
     "execution_count": 179,
     "metadata": {},
     "output_type": "execute_result"
    }
   ],
   "source": [
    "i.isprintable()"
   ]
  },
  {
   "cell_type": "markdown",
   "id": "96fe8cb6",
   "metadata": {},
   "source": [
    "here even a space can be printable and executed true"
   ]
  },
  {
   "cell_type": "markdown",
   "id": "2ee2c439",
   "metadata": {},
   "source": [
    "16. isspace\\\n",
    "    \n",
    "isspace() method returns “True” if all characters in the string are whitespace characters,\n",
    "Otherwise, It returns “False”. This function is used to check if the argument contains all whitespace characters\n"
   ]
  },
  {
   "cell_type": "code",
   "execution_count": 181,
   "id": "a971b804",
   "metadata": {},
   "outputs": [
    {
     "data": {
      "text/plain": [
       "'INNOMATICS RESERCH LAB'"
      ]
     },
     "execution_count": 181,
     "metadata": {},
     "output_type": "execute_result"
    }
   ],
   "source": [
    "X"
   ]
  },
  {
   "cell_type": "code",
   "execution_count": 182,
   "id": "a915ed55",
   "metadata": {},
   "outputs": [
    {
     "data": {
      "text/plain": [
       "False"
      ]
     },
     "execution_count": 182,
     "metadata": {},
     "output_type": "execute_result"
    }
   ],
   "source": [
    "X.isspace()"
   ]
  },
  {
   "cell_type": "code",
   "execution_count": 183,
   "id": "25156cb3",
   "metadata": {},
   "outputs": [
    {
     "data": {
      "text/plain": [
       "'  '"
      ]
     },
     "execution_count": 183,
     "metadata": {},
     "output_type": "execute_result"
    }
   ],
   "source": [
    "i"
   ]
  },
  {
   "cell_type": "code",
   "execution_count": 184,
   "id": "a2a5406b",
   "metadata": {},
   "outputs": [
    {
     "data": {
      "text/plain": [
       "True"
      ]
     },
     "execution_count": 184,
     "metadata": {},
     "output_type": "execute_result"
    }
   ],
   "source": [
    "i.isspace()"
   ]
  },
  {
   "cell_type": "markdown",
   "id": "59d01001",
   "metadata": {},
   "source": [
    "here i has white spaces hence true"
   ]
  },
  {
   "cell_type": "markdown",
   "id": "73a28ed5",
   "metadata": {},
   "source": [
    "17.istitle\\\n",
    "    istitle is used to know weather string is title cased or not\\\n",
    "    if title cased then executes ture else false"
   ]
  },
  {
   "cell_type": "code",
   "execution_count": 186,
   "id": "5cdfb007",
   "metadata": {},
   "outputs": [
    {
     "data": {
      "text/plain": [
       "'INNOMATICS RESERCH LAB'"
      ]
     },
     "execution_count": 186,
     "metadata": {},
     "output_type": "execute_result"
    }
   ],
   "source": [
    "X\n"
   ]
  },
  {
   "cell_type": "code",
   "execution_count": 187,
   "id": "99304435",
   "metadata": {},
   "outputs": [
    {
     "data": {
      "text/plain": [
       "False"
      ]
     },
     "execution_count": 187,
     "metadata": {},
     "output_type": "execute_result"
    }
   ],
   "source": [
    "X.istitle()"
   ]
  },
  {
   "cell_type": "markdown",
   "id": "b5c17620",
   "metadata": {},
   "source": [
    "all the words are in upper case hence false"
   ]
  },
  {
   "cell_type": "code",
   "execution_count": 188,
   "id": "055bd471",
   "metadata": {},
   "outputs": [
    {
     "data": {
      "text/plain": [
       "'Arun Kumar From Mancherial'"
      ]
     },
     "execution_count": 188,
     "metadata": {},
     "output_type": "execute_result"
    }
   ],
   "source": [
    "k = 'Arun Kumar From Mancherial'\n",
    "k"
   ]
  },
  {
   "cell_type": "code",
   "execution_count": 189,
   "id": "1857831c",
   "metadata": {},
   "outputs": [
    {
     "data": {
      "text/plain": [
       "True"
      ]
     },
     "execution_count": 189,
     "metadata": {},
     "output_type": "execute_result"
    }
   ],
   "source": [
    "k.istitle()"
   ]
  },
  {
   "cell_type": "markdown",
   "id": "9da6504d",
   "metadata": {},
   "source": [
    "here all the first letters of the words are titled hence executed true"
   ]
  },
  {
   "cell_type": "markdown",
   "id": "db859652",
   "metadata": {},
   "source": [
    "18. Join\n",
    "     join takes all items in an iterable and joins them into one string"
   ]
  },
  {
   "cell_type": "code",
   "execution_count": 191,
   "id": "5eeed213",
   "metadata": {},
   "outputs": [
    {
     "data": {
      "text/plain": [
       "'Arun Kumar From Mancherial'"
      ]
     },
     "execution_count": 191,
     "metadata": {},
     "output_type": "execute_result"
    }
   ],
   "source": [
    "k\n"
   ]
  },
  {
   "cell_type": "code",
   "execution_count": 192,
   "id": "bb626fc1",
   "metadata": {},
   "outputs": [
    {
     "data": {
      "text/plain": [
       "'INNOMATICS RESERCH LAB'"
      ]
     },
     "execution_count": 192,
     "metadata": {},
     "output_type": "execute_result"
    }
   ],
   "source": [
    "X"
   ]
  },
  {
   "cell_type": "code",
   "execution_count": 193,
   "id": "1a5f025e",
   "metadata": {},
   "outputs": [
    {
     "name": "stdout",
     "output_type": "stream",
     "text": [
      "INNOMATICS RESERCH LAB*Arun Kumar From Mancherial\n"
     ]
    }
   ],
   "source": [
    "k = ('INNOMATICS RESERCH LAB','Arun Kumar From Mancherial')\n",
    "u = '*'.join(k)\n",
    "print(u)"
   ]
  },
  {
   "cell_type": "markdown",
   "id": "41d3dfb4",
   "metadata": {},
   "source": [
    "here both  are added "
   ]
  },
  {
   "cell_type": "markdown",
   "id": "e25c6f99",
   "metadata": {},
   "source": [
    "19. ijust\\\n",
    "     in this ljust the old string will be in left and the new on will be on right"
   ]
  },
  {
   "cell_type": "code",
   "execution_count": 194,
   "id": "32d76a9d",
   "metadata": {},
   "outputs": [
    {
     "data": {
      "text/plain": [
       "'Rolex'"
      ]
     },
     "execution_count": 194,
     "metadata": {},
     "output_type": "execute_result"
    }
   ],
   "source": [
    "l = ('Rolex')\n",
    "l"
   ]
  },
  {
   "cell_type": "code",
   "execution_count": 200,
   "id": "1c874d2b",
   "metadata": {},
   "outputs": [
    {
     "data": {
      "text/plain": [
       "'Rolex&&&&&&&&&&&&&&&'"
      ]
     },
     "execution_count": 200,
     "metadata": {},
     "output_type": "execute_result"
    }
   ],
   "source": [
    "l.ljust(20,\"&\") "
   ]
  },
  {
   "cell_type": "markdown",
   "id": "521d60a5",
   "metadata": {},
   "source": [
    "in ljust the fill character will be on the right side with given char length"
   ]
  },
  {
   "cell_type": "markdown",
   "id": "981a42cf",
   "metadata": {},
   "source": [
    "similarly rjust fill the characters on left side with given char length"
   ]
  },
  {
   "cell_type": "code",
   "execution_count": 201,
   "id": "58ec2ab3",
   "metadata": {},
   "outputs": [
    {
     "data": {
      "text/plain": [
       "'Rolex'"
      ]
     },
     "execution_count": 201,
     "metadata": {},
     "output_type": "execute_result"
    }
   ],
   "source": [
    "l"
   ]
  },
  {
   "cell_type": "code",
   "execution_count": 202,
   "id": "3c6e9b2a",
   "metadata": {},
   "outputs": [
    {
     "data": {
      "text/plain": [
       "'$$$$$$$$$$$$$$$Rolex'"
      ]
     },
     "execution_count": 202,
     "metadata": {},
     "output_type": "execute_result"
    }
   ],
   "source": [
    "l.rjust(20,'$')"
   ]
  },
  {
   "cell_type": "markdown",
   "id": "733c1af1",
   "metadata": {},
   "source": [
    "here the $ symbol filled on left side of string with the given char length"
   ]
  },
  {
   "cell_type": "markdown",
   "id": "de4a1efd",
   "metadata": {},
   "source": [
    "20. Strip\\\n",
    "    strip is used to remove the white spaces in a sentences white spaces are the spaces that are infront or back of the sentences but not bw the words"
   ]
  },
  {
   "cell_type": "code",
   "execution_count": 206,
   "id": "64664363",
   "metadata": {},
   "outputs": [
    {
     "data": {
      "text/plain": [
       "'    hakuna matata   '"
      ]
     },
     "execution_count": 206,
     "metadata": {},
     "output_type": "execute_result"
    }
   ],
   "source": [
    "s =  \"    hakuna matata   \" \n",
    "s"
   ]
  },
  {
   "cell_type": "code",
   "execution_count": 207,
   "id": "39ed14ce",
   "metadata": {},
   "outputs": [
    {
     "data": {
      "text/plain": [
       "'hakuna matata'"
      ]
     },
     "execution_count": 207,
     "metadata": {},
     "output_type": "execute_result"
    }
   ],
   "source": [
    "s.strip()"
   ]
  },
  {
   "cell_type": "markdown",
   "id": "31a06e30",
   "metadata": {},
   "source": [
    "in output we can see the white spaces in front and back of the string were removed\n",
    "\n",
    "strip falls into two types \n",
    "\n",
    "1. lstrip\\\n",
    "   lstrip removes the white spaces on the left side of the string\n",
    "2. rstrip\\\n",
    "   rstrip removes the white spaces on the right side of the string"
   ]
  },
  {
   "cell_type": "code",
   "execution_count": 208,
   "id": "ee9ec6e5",
   "metadata": {},
   "outputs": [
    {
     "data": {
      "text/plain": [
       "'    hakuna matata   '"
      ]
     },
     "execution_count": 208,
     "metadata": {},
     "output_type": "execute_result"
    }
   ],
   "source": [
    "s"
   ]
  },
  {
   "cell_type": "code",
   "execution_count": 209,
   "id": "35459660",
   "metadata": {},
   "outputs": [
    {
     "data": {
      "text/plain": [
       "'hakuna matata   '"
      ]
     },
     "execution_count": 209,
     "metadata": {},
     "output_type": "execute_result"
    }
   ],
   "source": [
    "s.lstrip()"
   ]
  },
  {
   "cell_type": "markdown",
   "id": "6fca26c7",
   "metadata": {},
   "source": [
    "here the white spaces on the left side of the string"
   ]
  },
  {
   "cell_type": "code",
   "execution_count": 210,
   "id": "fd1cf22f",
   "metadata": {},
   "outputs": [
    {
     "data": {
      "text/plain": [
       "'    hakuna matata'"
      ]
     },
     "execution_count": 210,
     "metadata": {},
     "output_type": "execute_result"
    }
   ],
   "source": [
    "s.rstrip()"
   ]
  },
  {
   "cell_type": "markdown",
   "id": "de0b631a",
   "metadata": {},
   "source": [
    "here the white spaces on the right side of the string"
   ]
  },
  {
   "cell_type": "markdown",
   "id": "4a5b3778",
   "metadata": {},
   "source": [
    "21. partition\\\n",
    "  the partition method searches for a specified string, and splits the string into a tuple containing three elements"
   ]
  },
  {
   "cell_type": "markdown",
   "id": "118c9276",
   "metadata": {},
   "source": [
    "example"
   ]
  },
  {
   "cell_type": "code",
   "execution_count": 211,
   "id": "229519a2",
   "metadata": {},
   "outputs": [
    {
     "data": {
      "text/plain": [
       "'BoggulaArunkumar'"
      ]
     },
     "execution_count": 211,
     "metadata": {},
     "output_type": "execute_result"
    }
   ],
   "source": [
    "k = ('BoggulaArunkumar') \n",
    "k"
   ]
  },
  {
   "cell_type": "code",
   "execution_count": 215,
   "id": "1f8fdfd5",
   "metadata": {},
   "outputs": [
    {
     "data": {
      "text/plain": [
       "('Boggula', 'Arun', 'kumar')"
      ]
     },
     "execution_count": 215,
     "metadata": {},
     "output_type": "execute_result"
    }
   ],
   "source": [
    "k.partition('Arun')"
   ]
  },
  {
   "cell_type": "code",
   "execution_count": 216,
   "id": "57741e82",
   "metadata": {},
   "outputs": [
    {
     "data": {
      "text/plain": [
       "('', 'Boggula', 'Arunkumar')"
      ]
     },
     "execution_count": 216,
     "metadata": {},
     "output_type": "execute_result"
    }
   ],
   "source": [
    "k.partition('Boggula')"
   ]
  },
  {
   "cell_type": "code",
   "execution_count": 217,
   "id": "076d72ed",
   "metadata": {},
   "outputs": [
    {
     "data": {
      "text/plain": [
       "('BoggulaArun', 'kumar', '')"
      ]
     },
     "execution_count": 217,
     "metadata": {},
     "output_type": "execute_result"
    }
   ],
   "source": [
    "k.partition('kumar')"
   ]
  },
  {
   "cell_type": "markdown",
   "id": "effab79b",
   "metadata": {},
   "source": [
    " removesuffix\n",
    "If the string ends with the suffix and the suffix is not empty, the str.removesuffix(suffix, /) function removes the suffix and returns the rest of the string. If the suffix string is not found then it returns the original string."
   ]
  },
  {
   "cell_type": "code",
   "execution_count": 219,
   "id": "f18f3be5",
   "metadata": {},
   "outputs": [
    {
     "data": {
      "text/plain": [
       "'BoggulaArunkumar'"
      ]
     },
     "execution_count": 219,
     "metadata": {},
     "output_type": "execute_result"
    }
   ],
   "source": [
    "k\n"
   ]
  },
  {
   "cell_type": "code",
   "execution_count": 221,
   "id": "135a5abe",
   "metadata": {},
   "outputs": [
    {
     "data": {
      "text/plain": [
       "'BoggulaArun'"
      ]
     },
     "execution_count": 221,
     "metadata": {},
     "output_type": "execute_result"
    }
   ],
   "source": [
    "k.removesuffix('kumar')"
   ]
  },
  {
   "cell_type": "markdown",
   "id": "a1ab88bd",
   "metadata": {},
   "source": [
    "here the suffix has removed in suffix"
   ]
  },
  {
   "cell_type": "code",
   "execution_count": 223,
   "id": "e54ca521",
   "metadata": {},
   "outputs": [
    {
     "data": {
      "text/plain": [
       "'BoggulaArunkumar'"
      ]
     },
     "execution_count": 223,
     "metadata": {},
     "output_type": "execute_result"
    }
   ],
   "source": [
    "k.removesuffix('varun')"
   ]
  },
  {
   "cell_type": "markdown",
   "id": "5a370272",
   "metadata": {},
   "source": [
    "here no suffix naming varun hence original string will be executed"
   ]
  },
  {
   "cell_type": "markdown",
   "id": "48982703",
   "metadata": {},
   "source": [
    "Replace\n",
    "  \n",
    "    replace in Python returns a copy of the string where occurrences of a substring are replaced with another substring."
   ]
  },
  {
   "cell_type": "code",
   "execution_count": 224,
   "id": "1de6cb54",
   "metadata": {},
   "outputs": [
    {
     "data": {
      "text/plain": [
       "'BoggulaArunkumar'"
      ]
     },
     "execution_count": 224,
     "metadata": {},
     "output_type": "execute_result"
    }
   ],
   "source": [
    "k"
   ]
  },
  {
   "cell_type": "code",
   "execution_count": 231,
   "id": "650e6c66",
   "metadata": {},
   "outputs": [
    {
     "name": "stdout",
     "output_type": "stream",
     "text": [
      "BoggulaArunkumar\n"
     ]
    }
   ],
   "source": [
    "v = k.replace('arun','varun')\n",
    "print(v)"
   ]
  },
  {
   "cell_type": "markdown",
   "id": "43c6d7b7",
   "metadata": {},
   "source": [
    "rfind\\\n",
    "  rfind is used to find the index of a character from the right hand side\\\n",
    "  it gives the index value in positive "
   ]
  },
  {
   "cell_type": "code",
   "execution_count": 240,
   "id": "91125647",
   "metadata": {},
   "outputs": [
    {
     "data": {
      "text/plain": [
       "7"
      ]
     },
     "execution_count": 240,
     "metadata": {},
     "output_type": "execute_result"
    }
   ],
   "source": [
    "k.rfind('A')"
   ]
  },
  {
   "cell_type": "code",
   "execution_count": 241,
   "id": "9a263d8e",
   "metadata": {},
   "outputs": [
    {
     "data": {
      "text/plain": [
       "14"
      ]
     },
     "execution_count": 241,
     "metadata": {},
     "output_type": "execute_result"
    }
   ],
   "source": [
    "k.rfind('a')"
   ]
  },
  {
   "cell_type": "code",
   "execution_count": 242,
   "id": "c8668f73",
   "metadata": {},
   "outputs": [
    {
     "data": {
      "text/plain": [
       "15"
      ]
     },
     "execution_count": 242,
     "metadata": {},
     "output_type": "execute_result"
    }
   ],
   "source": [
    "k.rfind('r')"
   ]
  },
  {
   "cell_type": "markdown",
   "id": "6e54b8a4",
   "metadata": {},
   "source": [
    "here in the outputs the index values are as per positive indexing but it looks from right hand side"
   ]
  },
  {
   "cell_type": "markdown",
   "id": "bc83ea14",
   "metadata": {},
   "source": [
    "rindex\\\n",
    "rindex is used to find the index of a character from the right hand side\n",
    "it gives the index value in positive\n"
   ]
  },
  {
   "cell_type": "code",
   "execution_count": 243,
   "id": "c4075a4e",
   "metadata": {},
   "outputs": [
    {
     "data": {
      "text/plain": [
       "'BoggulaArunkumar'"
      ]
     },
     "execution_count": 243,
     "metadata": {},
     "output_type": "execute_result"
    }
   ],
   "source": [
    "k"
   ]
  },
  {
   "cell_type": "code",
   "execution_count": 245,
   "id": "82a0e4df",
   "metadata": {},
   "outputs": [
    {
     "data": {
      "text/plain": [
       "14"
      ]
     },
     "execution_count": 245,
     "metadata": {},
     "output_type": "execute_result"
    }
   ],
   "source": [
    "k.rindex('a')"
   ]
  },
  {
   "cell_type": "code",
   "execution_count": 246,
   "id": "b65d84c9",
   "metadata": {},
   "outputs": [
    {
     "data": {
      "text/plain": [
       "7"
      ]
     },
     "execution_count": 246,
     "metadata": {},
     "output_type": "execute_result"
    }
   ],
   "source": [
    "k.rindex('A')"
   ]
  },
  {
   "cell_type": "code",
   "execution_count": 247,
   "id": "f6f458ab",
   "metadata": {},
   "outputs": [
    {
     "data": {
      "text/plain": [
       "1"
      ]
     },
     "execution_count": 247,
     "metadata": {},
     "output_type": "execute_result"
    }
   ],
   "source": [
    "k.rindex(\"o\")"
   ]
  },
  {
   "cell_type": "markdown",
   "id": "4fae595a",
   "metadata": {},
   "source": [
    "here in the outputs the index values are as per positive indexing but it looks from right hand side"
   ]
  },
  {
   "cell_type": "markdown",
   "id": "371ef7ca",
   "metadata": {},
   "source": [
    "rpartition\\\n",
    "The rpartition method searches for the last occurrence of a specified string, and splits the string into a tuple containing three elements"
   ]
  },
  {
   "cell_type": "code",
   "execution_count": 250,
   "id": "a50558ae",
   "metadata": {},
   "outputs": [
    {
     "data": {
      "text/plain": [
       "'BoggulaArunkumar'"
      ]
     },
     "execution_count": 250,
     "metadata": {},
     "output_type": "execute_result"
    }
   ],
   "source": [
    "k"
   ]
  },
  {
   "cell_type": "code",
   "execution_count": 251,
   "id": "6f0a9c19",
   "metadata": {},
   "outputs": [
    {
     "data": {
      "text/plain": [
       "('Boggula', 'Arun', 'kumar')"
      ]
     },
     "execution_count": 251,
     "metadata": {},
     "output_type": "execute_result"
    }
   ],
   "source": [
    "k.rpartition('Arun')"
   ]
  },
  {
   "cell_type": "markdown",
   "id": "933f05a1",
   "metadata": {},
   "source": [
    "split\\\n",
    "split is used to separate the words in given string or to mak string into substrings"
   ]
  },
  {
   "cell_type": "code",
   "execution_count": null,
   "id": "fd3a5fbb",
   "metadata": {},
   "outputs": [],
   "source": []
  }
 ],
 "metadata": {
  "kernelspec": {
   "display_name": "Python 3 (ipykernel)",
   "language": "python",
   "name": "python3"
  },
  "language_info": {
   "codemirror_mode": {
    "name": "ipython",
    "version": 3
   },
   "file_extension": ".py",
   "mimetype": "text/x-python",
   "name": "python",
   "nbconvert_exporter": "python",
   "pygments_lexer": "ipython3",
   "version": "3.11.5"
  }
 },
 "nbformat": 4,
 "nbformat_minor": 5
}
